{
  "nbformat": 4,
  "nbformat_minor": 0,
  "metadata": {
    "colab": {
      "name": "sample_notebook.ipynb",
      "provenance": [],
      "collapsed_sections": []
    },
    "kernelspec": {
      "name": "python3",
      "display_name": "Python 3"
    },
    "language_info": {
      "name": "python"
    },
    "accelerator": "GPU",
    "gpuClass": "standard"
  },
  "cells": [
    {
      "cell_type": "code",
      "source": [
        "!pip install transformers"
      ],
      "metadata": {
        "id": "D5gcWmpCADBS"
      },
      "execution_count": 1,
      "outputs": []
    },
    {
      "cell_type": "code",
      "source": [
        "from dyme_wrapper import DymeWrapper\n",
        "from rewards import mse_reward, weighted_mse_reward, weighted_rmse_reward, vector_difference_reward"
      ],
      "metadata": {
        "id": "hunNBr10zvXp"
      },
      "execution_count": 7,
      "outputs": []
    },
    {
      "cell_type": "code",
      "source": [
        "sample_dialog = ['i remember going to see the fireworks with my best friend . it was the first time we ever spent time alone together . although there was a lot of people , we felt like the only people in the world .',\n",
        "                 'was this a friend you were in love with , or just a best friend ?',\n",
        "                 'this was a best friend . i miss her .',\n",
        "                 'where has she gone ?',\n",
        "                 'we no longer talk .']\n",
        "sample_response = 'oh was this something that happened because of an argument ?'                 "
      ],
      "metadata": {
        "id": "s10awkUYGdFU"
      },
      "execution_count": 3,
      "outputs": []
    },
    {
      "cell_type": "code",
      "source": [
        "dyme_wrapper = DymeWrapper()"
      ],
      "metadata": {
        "colab": {
          "base_uri": "https://localhost:8080/"
        },
        "id": "ciHfTkL6Gzs5",
        "outputId": "778ea914-572f-48b2-fcbc-18a9ef4aa664"
      },
      "execution_count": 4,
      "outputs": [
        {
          "output_type": "stream",
          "name": "stdout",
          "text": [
            "Initializing DYME ...\n"
          ]
        },
        {
          "output_type": "stream",
          "name": "stderr",
          "text": [
            "Some weights of the model checkpoint at bert-base-uncased were not used when initializing BertModel: ['cls.seq_relationship.bias', 'cls.predictions.transform.LayerNorm.weight', 'cls.seq_relationship.weight', 'cls.predictions.bias', 'cls.predictions.transform.LayerNorm.bias', 'cls.predictions.decoder.weight', 'cls.predictions.transform.dense.bias', 'cls.predictions.transform.dense.weight']\n",
            "- This IS expected if you are initializing BertModel from the checkpoint of a model trained on another task or with another architecture (e.g. initializing a BertForSequenceClassification model from a BertForPreTraining model).\n",
            "- This IS NOT expected if you are initializing BertModel from the checkpoint of a model that you expect to be exactly identical (initializing a BertForSequenceClassification model from a BertForSequenceClassification model).\n"
          ]
        },
        {
          "output_type": "stream",
          "name": "stdout",
          "text": [
            "Successfully initialized DYME!\n"
          ]
        }
      ]
    },
    {
      "cell_type": "code",
      "source": [
        "prediction = dyme_wrapper.predict_metrics(sample_dialog)\n",
        "prediction"
      ],
      "metadata": {
        "id": "RLyXPi5pHdwL",
        "colab": {
          "base_uri": "https://localhost:8080/"
        },
        "outputId": "b41bd908-1ff4-476c-a431-c64e3403f287"
      },
      "execution_count": 5,
      "outputs": [
        {
          "output_type": "execute_result",
          "data": {
            "text/plain": [
              "array([0.02931398, 0.04229168, 0.02212409, 0.0284678 , 0.00368453,\n",
              "       0.03691474], dtype=float32)"
            ]
          },
          "metadata": {},
          "execution_count": 5
        }
      ]
    },
    {
      "cell_type": "code",
      "source": [
        "metrics_for_response = dyme_wrapper.compute_metrics_for_response(sample_dialog, sample_response)\n",
        "metrics_for_response"
      ],
      "metadata": {
        "colab": {
          "base_uri": "https://localhost:8080/"
        },
        "id": "IvVwQyXQrxWx",
        "outputId": "e18929a7-73ee-4a8c-d2cd-fb69de02b40a"
      },
      "execution_count": 6,
      "outputs": [
        {
          "output_type": "execute_result",
          "data": {
            "text/plain": [
              "array([0.        , 0.57894737, 0.9       , 0.6       , 1.2       ,\n",
              "       0.22222222])"
            ]
          },
          "metadata": {},
          "execution_count": 6
        }
      ]
    },
    {
      "cell_type": "code",
      "source": [
        "mse_reward(metrics_for_response, prediction)"
      ],
      "metadata": {
        "colab": {
          "base_uri": "https://localhost:8080/"
        },
        "id": "k15o120lsSTJ",
        "outputId": "a6d168ac-b2d3-4005-ae49-06dfd922ff7b"
      },
      "execution_count": 8,
      "outputs": [
        {
          "output_type": "execute_result",
          "data": {
            "text/plain": [
              "-0.475280560540571"
            ]
          },
          "metadata": {},
          "execution_count": 8
        }
      ]
    },
    {
      "cell_type": "code",
      "source": [
        "weighted_mse_reward(metrics_for_response, prediction)"
      ],
      "metadata": {
        "colab": {
          "base_uri": "https://localhost:8080/"
        },
        "id": "XN_BxFjjsWa_",
        "outputId": "7e2d6f59-0431-4583-e820-443468bc3392"
      },
      "execution_count": 9,
      "outputs": [
        {
          "output_type": "execute_result",
          "data": {
            "text/plain": [
              "-0.475280560540571"
            ]
          },
          "metadata": {},
          "execution_count": 9
        }
      ]
    },
    {
      "cell_type": "code",
      "source": [
        "weighted_rmse_reward(metrics_for_response, prediction)"
      ],
      "metadata": {
        "colab": {
          "base_uri": "https://localhost:8080/"
        },
        "id": "EYvhtTwisamb",
        "outputId": "89ad44a8-e86f-4261-c2db-03443059680f"
      },
      "execution_count": 10,
      "outputs": [
        {
          "output_type": "execute_result",
          "data": {
            "text/plain": [
              "-0.6894059475668679"
            ]
          },
          "metadata": {},
          "execution_count": 10
        }
      ]
    },
    {
      "cell_type": "code",
      "source": [
        "vector_difference_reward(metrics_for_response, prediction)"
      ],
      "metadata": {
        "colab": {
          "base_uri": "https://localhost:8080/"
        },
        "id": "UwkOSpENsd4v",
        "outputId": "0a3ba0ee-8197-482c-cd46-b122a46e2817"
      },
      "execution_count": 11,
      "outputs": [
        {
          "output_type": "execute_result",
          "data": {
            "text/plain": [
              "array([-0.02931398, -0.53665569, -0.87787591, -0.5715322 , -1.19631547,\n",
              "       -0.18530749])"
            ]
          },
          "metadata": {},
          "execution_count": 11
        }
      ]
    }
  ]
}