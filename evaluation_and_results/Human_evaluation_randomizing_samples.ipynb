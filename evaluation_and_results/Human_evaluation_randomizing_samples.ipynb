{
 "nbformat": 4,
 "nbformat_minor": 0,
 "metadata": {
  "colab": {
   "name": "for random evaluation.ipynb",
   "provenance": [],
   "collapsed_sections": []
  },
  "kernelspec": {
   "name": "python3",
   "display_name": "Python 3"
  },
  "language_info": {
   "name": "python"
  }
 },
 "cells": [
  {
   "cell_type": "code",
   "execution_count": null,
   "metadata": {
    "colab": {
     "base_uri": "https://localhost:8080/"
    },
    "id": "eXlo9tWK2Mwl",
    "outputId": "9f7c89a0-74f9-42fa-f41b-4dd99339f78f"
   },
   "outputs": [
    {
     "output_type": "stream",
     "name": "stdout",
     "text": [
      "Drive already mounted at /content/drive; to attempt to forcibly remount, call drive.mount(\"/content/drive\", force_remount=True).\n"
     ]
    }
   ],
   "source": [
    "from google.colab import drive\n",
    "drive.mount('/content/drive')"
   ]
  },
  {
   "cell_type": "code",
   "source": [
    "import os\n",
    "os.chdir(\"/content/drive/dialog-generation-with-a-dynamic-human-preference-predictor\")"
   ],
   "metadata": {
    "id": "xpLlyYDw2clt"
   },
   "execution_count": null,
   "outputs": []
  },
  {
   "cell_type": "code",
   "source": [
    "import random\n",
    "switch =[]\n",
    "for i in range(500):\n",
    "  nb = random.randint(0,1)\n",
    "  switch.append(nb)\n",
    "print(switch)"
   ],
   "metadata": {
    "colab": {
     "base_uri": "https://localhost:8080/"
    },
    "id": "L7Y_MXpr5nCj",
    "outputId": "de155a26-8dfe-4708-8b78-ccc991c927d8"
   },
   "execution_count": null,
   "outputs": [
    {
     "output_type": "stream",
     "name": "stdout",
     "text": [
      "[1, 1, 0, 0, 1, 0, 1, 1, 1, 1, 1, 0, 1, 1, 1, 1, 1, 0, 0, 0, 1, 1, 1, 0, 0, 0, 1, 1, 1, 0, 0, 0, 1, 0, 1, 0, 1, 0, 1, 1, 1, 1, 0, 1, 1, 0, 1, 1, 0, 1, 0, 0, 0, 0, 0, 1, 0, 1, 1, 0, 0, 0, 1, 0, 0, 1, 1, 0, 0, 0, 1, 0, 1, 0, 0, 0, 1, 1, 0, 0, 1, 1, 0, 1, 1, 0, 1, 0, 1, 1, 0, 1, 0, 0, 0, 0, 0, 1, 1, 0, 0, 1, 0, 1, 1, 1, 1, 1, 0, 0, 0, 1, 0, 0, 1, 1, 0, 0, 0, 1, 1, 1, 0, 0, 1, 1, 1, 0, 1, 1, 0, 0, 1, 1, 0, 0, 0, 1, 1, 1, 0, 1, 1, 0, 1, 0, 1, 0, 0, 0, 0, 0, 0, 0, 0, 0, 1, 1, 0, 1, 0, 1, 0, 1, 1, 1, 0, 0, 0, 0, 0, 1, 0, 0, 0, 1, 0, 1, 1, 0, 0, 0, 1, 1, 0, 1, 1, 0, 0, 0, 1, 0, 1, 0, 0, 1, 1, 0, 1, 1, 1, 1, 0, 0, 1, 1, 0, 0, 0, 0, 0, 0, 1, 1, 0, 0, 1, 1, 0, 0, 0, 0, 1, 1, 0, 0, 0, 1, 0, 1, 0, 1, 1, 0, 0, 1, 0, 1, 1, 1, 0, 0, 1, 1, 1, 1, 0, 0, 0, 1, 0, 0, 0, 0, 1, 1, 0, 0, 0, 1, 0, 1, 0, 1, 0, 0, 0, 0, 0, 1, 1, 1, 0, 1, 0, 1, 0, 1, 1, 1, 1, 1, 1, 0, 0, 0, 0, 1, 1, 1, 0, 0, 1, 1, 1, 1, 0, 1, 1, 1, 0, 1, 0, 1, 0, 0, 0, 1, 0, 0, 0, 0, 0, 1, 1, 0, 0, 0, 1, 1, 1, 0, 0, 0, 0, 0, 0, 0, 1, 1, 1, 1, 1, 1, 1, 0, 1, 0, 0, 0, 1, 0, 0, 1, 1, 0, 0, 0, 1, 0, 1, 1, 1, 1, 0, 0, 1, 0, 0, 0, 1, 0, 0, 0, 0, 0, 1, 1, 0, 0, 1, 0, 1, 1, 1, 0, 1, 0, 1, 0, 0, 1, 0, 1, 0, 1, 1, 0, 1, 1, 1, 0, 1, 0, 1, 0, 1, 0, 1, 1, 1, 1, 0, 1, 0, 0, 0, 1, 1, 0, 0, 0, 0, 1, 0, 0, 0, 1, 1, 0, 0, 1, 1, 0, 0, 1, 1, 1, 0, 0, 1, 0, 1, 0, 1, 1, 0, 0, 1, 1, 0, 1, 0, 1, 0, 1, 0, 0, 0, 1, 1, 1, 1, 0, 0, 0, 1, 1, 1, 1, 1, 0, 0, 1, 0, 0, 1, 1, 1, 1, 1, 0, 1, 0, 0, 1, 1, 0, 1, 0, 1, 0, 1, 1, 0, 0, 1, 0, 1, 0, 1, 0, 1, 1, 1, 0, 0, 1, 0, 1]\n"
     ]
    }
   ]
  },
  {
   "cell_type": "code",
   "source": [
    "import csv\n",
    "#lines = 100\n",
    "name_of_csv = 'Human_evaluation_samples_to_be_evaluated'\n",
    "fieldnames = ['id','chat_history','gt_response','response_A','response_B','X']\n",
    "begin = 1500\n",
    "with open('evaluation_and_results/'+name_of_csv+'.csv','r+',encoding='UTF8', newline='') as csvfile:\n",
    "    reader = csv.DictReader(csvfile)\n",
    "    for i in reader:\n",
    "      if int(i['id']) >= begin:\n",
    "        id = int(i['id'])\n",
    "        if id == 2000:\n",
    "          break\n",
    "        with open('evaluation_and_results/'+name_of_csv+'_randomly_switched.csv','a+',encoding='UTF8') as ncsvfile:\n",
    "          writer = csv.DictWriter(ncsvfile,fieldnames)\n",
    "          if switch[id-begin] == 1:\n",
    "            tobe_written = [{'id':i['id'],'chat_history':i['chat_history'],'gt_response':i['gt_response'],'response_A':i['RLPA_response'],'response_B':i['blenderbot_response'],'X':switch[id-begin]}]\n",
    "          else:\n",
    "            tobe_written = [{'id':i['id'],'chat_history':i['chat_history'],'gt_response':i['gt_response'],'response_A':i['blenderbot_response'],'response_B':i['RLPA_response'],'X':switch[id-begin]}]\n",
    "          writer.writerows(tobe_written)"
   ],
   "metadata": {
    "id": "ggiPvUzx2dQb"
   },
   "execution_count": null,
   "outputs": []
  }
 ]
}