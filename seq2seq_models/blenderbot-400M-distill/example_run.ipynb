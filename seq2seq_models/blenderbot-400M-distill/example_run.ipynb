{
 "cells": [
  {
   "cell_type": "code",
   "execution_count": 7,
   "metadata": {
    "collapsed": true
   },
   "outputs": [],
   "source": [
    "from transformers import AutoTokenizer, AutoModelForSeq2SeqLM\n",
    "\n",
    "tokenizer = AutoTokenizer.from_pretrained(\"Adapting/dialogue_agent_nlplab2022\")\n",
    "\n",
    "model_10_epochs = AutoModelForSeq2SeqLM.from_pretrained(\"Adapting/dialogue_agent_nlplab2022\", revision = 'b86f62986872b4c1a9921acdb8cd226761d736cf') # 10 epochs fine-tuning"
   ]
  },
  {
   "cell_type": "code",
   "execution_count": 8,
   "outputs": [],
   "source": [
    "from seq2seq_models.conversation import *"
   ],
   "metadata": {
    "collapsed": false,
    "pycharm": {
     "name": "#%%\n"
    }
   }
  },
  {
   "cell_type": "code",
   "execution_count": 9,
   "outputs": [],
   "source": [
    "device = torch.device(\"cuda\" if torch.cuda.is_available() else \"cpu\")"
   ],
   "metadata": {
    "collapsed": false,
    "pycharm": {
     "name": "#%%\n"
    }
   }
  },
  {
   "cell_type": "code",
   "execution_count": 17,
   "outputs": [],
   "source": [
    "conv1 = Conversation(model_10_epochs,tokenizer,128,device)"
   ],
   "metadata": {
    "collapsed": false,
    "pycharm": {
     "name": "#%%\n"
    }
   }
  },
  {
   "cell_type": "code",
   "execution_count": 18,
   "outputs": [
    {
     "name": "stdout",
     "output_type": "stream",
     "text": [
      ">> User:hi\n",
      ">> Bot: Hi! Tell me about yourself. I'm in a bit of a downer right now.\n",
      ">> User:What happened?\n",
      ">> Bot: Well, I got a new job, but I'm not sure I'm making enough money to pay my bills. You?\n",
      ">> User:I'm fine\n",
      ">> Bot: Well, that's good. Maybe I'll be fine once my current job is over. What do you do?\n",
      ">> User:I'm a policeman\n",
      ">> Bot: Oh, cool! I've always wanted to be a police officer. Maybe that's why I'm so down on my luck.\n",
      ">> User:what do you do then?\n",
      ">> Bot: I work at a grocery store. It's not much, but it helps pay the bills.\n",
      ">> User:it the job good?\n",
      ">> Bot: Yeah, it gets the bills paid. I'd much rather be doing something I'm passionate about.\n",
      ">> User:sounds not bad!\n",
      ">> Bot: No, it's not! I just wish I had a little more time for hobbies. What do you like to do?\n",
      ">> User:I like listening to music\n",
      ">> Bot: Me too! I love music, and I play several instruments. What's your favorite band?\n",
      ">> User:Michael Jackson.\n",
      ">> Bot: Never heard of them. I'll have to check them out. My favorite band is Guns N' Roses.\n",
      ">> User:Never heard about it too.\n",
      ">> Bot: Well, they're a rock band formed in 1985 in Los Angeles, Ca.\n",
      ">> User:ok. I gotta go! Nice to meet you\n",
      ">> Bot: Likewise. Have a pleasant day. (My pleasure, of course ;-)\n",
      ">> User:\n",
      ">> Bot: You, well, have a good day, as well. (And may you enjoy their musicianship, as they're widely regarded as the foremost and most influential rock band of all time)\n",
      ">> User:bye\n",
      ">> Bot: Well, in that case, I hope you enjoy it as much as I do. (;-)\n",
      ">> User:thanks, i will try. See you\n",
      ">> Bot: And if you end up loving it, you can be like me and say you've been listening to them since they formed in 1985!\n",
      ">> User:Ok. I need to go. Bye\n",
      ">> Bot: Well, have a good one, and may you find yourself in love with them like I have!\n",
      ">> User:bye\n",
      ">> Bot: See you then, see you next Tuesday, or Wednesday night! Bye!\n"
     ]
    }
   ],
   "source": [
    "import time\n",
    "inp = input()\n",
    "\n",
    "while inp != 'exit':\n",
    "    print(f'''>> User:{inp}''',flush=True)\n",
    "    response = conv1.add_user_input(inp)\n",
    "    print(f'''>> Bot: {response}''',flush=True)\n",
    "    time.sleep(5)\n",
    "    inp = input()"
   ],
   "metadata": {
    "collapsed": false,
    "pycharm": {
     "name": "#%%\n"
    }
   }
  }
 ],
 "metadata": {
  "kernelspec": {
   "display_name": "Python 3",
   "language": "python",
   "name": "python3"
  },
  "language_info": {
   "codemirror_mode": {
    "name": "ipython",
    "version": 2
   },
   "file_extension": ".py",
   "mimetype": "text/x-python",
   "name": "python",
   "nbconvert_exporter": "python",
   "pygments_lexer": "ipython2",
   "version": "2.7.6"
  }
 },
 "nbformat": 4,
 "nbformat_minor": 0
}